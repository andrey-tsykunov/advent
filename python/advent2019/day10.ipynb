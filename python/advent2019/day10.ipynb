{
 "cells": [
  {
   "cell_type": "code",
   "execution_count": 97,
   "metadata": {
    "collapsed": true,
    "pycharm": {
     "is_executing": false
    }
   },
   "outputs": [],
   "source": [
    "from advent2019.utils import *\n",
    "from assertpy import assert_that\n",
    "from itertools import combinations\n",
    "from collections import defaultdict\n",
    "from decimal import *\n",
    "import math\n",
    "\n",
    "map = read_strings(\"day10.data\")\n",
    "\n",
    "map_1 = read_strings(\"day10_1.data\")\n",
    "map_2 = read_strings(\"day10_2.data\")\n",
    "map_3 = read_strings(\"day10_3.data\")\n",
    "map_4 = read_strings(\"day10_4.data\")\n",
    "map_5 = read_strings(\"day10_5.data\")"
   ]
  },
  {
   "cell_type": "code",
   "execution_count": 129,
   "outputs": [
    {
     "data": {
      "text/plain": "<assertpy.assertpy.AssertionBuilder at 0x2e6004ae808>"
     },
     "metadata": {},
     "output_type": "execute_result",
     "execution_count": 129
    }
   ],
   "source": [
    "def round_down(n, decimals=0):\n",
    "    multiplier = 10 ** decimals\n",
    "    return math.floor(n * multiplier) / multiplier\n",
    "\n",
    "def fit_line(p1, p2):\n",
    "    (x1, y1), (x2, y2) = sorted((p1, p2))\n",
    "    if x2 == x1:\n",
    "        return None, Decimal(x1)        \n",
    "    else:    \n",
    "        a = Decimal((y2 - y1) / (x2 - x1))        \n",
    "        b = Decimal(y1 - a * x1)\n",
    "        b = round(b, 4)        \n",
    "        return round(a, 4), b\n",
    "        \n",
    "def asteroids_from_best_location(asteroid_map):\n",
    "    \n",
    "    asteroids = {}\n",
    "    for y, row in enumerate(asteroid_map):\n",
    "        for x, c in enumerate(row):\n",
    "            if c != '.':\n",
    "                asteroids[(x, y)] = 0\n",
    "                \n",
    "    lines = defaultdict(set)\n",
    "    for a1, a2 in combinations(asteroids.keys(), 2):\n",
    "        a, b = fit_line(a1, a2)\n",
    "        lines[(a, b)] |= { a1, a2 } \n",
    "    \n",
    "    for k, ax_set in lines.items():        \n",
    "        ax = sorted(ax_set)                \n",
    "        asteroids[ax[0]] += 1\n",
    "        for a in ax[1:-1]:\n",
    "            asteroids[a] += 2            \n",
    "        asteroids[ax[-1]] += 1            \n",
    "            \n",
    "    return max(asteroids.items(), key=lambda kv: kv[1])\n",
    "\n",
    "assert_that(asteroids_from_best_location(map_1)).is_equal_to(((3,4), 8))\n",
    "assert_that(asteroids_from_best_location(map_3)).is_equal_to(((1,2), 35))\n",
    "assert_that(asteroids_from_best_location(map_4)).is_equal_to(((6,3), 41))\n",
    "assert_that(asteroids_from_best_location(map_2)).is_equal_to(((5,8), 33))\n",
    "assert_that(asteroids_from_best_location(map_5)).is_equal_to(((11,13), 210))"
   ],
   "metadata": {
    "collapsed": false,
    "pycharm": {
     "name": "#%%\n",
     "is_executing": false
    }
   }
  },
  {
   "cell_type": "code",
   "execution_count": 131,
   "outputs": [
    {
     "name": "stdout",
     "text": [
      "Wall time: 790 ms\n"
     ],
     "output_type": "stream"
    },
    {
     "data": {
      "text/plain": "<assertpy.assertpy.AssertionBuilder at 0x2e600ff6a48>"
     },
     "metadata": {},
     "output_type": "execute_result",
     "execution_count": 131
    }
   ],
   "source": [
    "%%time\n",
    "assert_that(asteroids_from_best_location(map)).is_equal_to(((13,17), 269)) \n",
    "\n",
    "\n",
    "\n"
   ],
   "metadata": {
    "collapsed": false,
    "pycharm": {
     "name": "#%% Part I\n",
     "is_executing": false
    }
   }
  }
 ],
 "metadata": {
  "kernelspec": {
   "display_name": "Python 3",
   "language": "python",
   "name": "python3"
  },
  "language_info": {
   "codemirror_mode": {
    "name": "ipython",
    "version": 2
   },
   "file_extension": ".py",
   "mimetype": "text/x-python",
   "name": "python",
   "nbconvert_exporter": "python",
   "pygments_lexer": "ipython2",
   "version": "2.7.6"
  },
  "pycharm": {
   "stem_cell": {
    "cell_type": "raw",
    "source": [],
    "metadata": {
     "collapsed": false
    }
   }
  }
 },
 "nbformat": 4,
 "nbformat_minor": 0
}