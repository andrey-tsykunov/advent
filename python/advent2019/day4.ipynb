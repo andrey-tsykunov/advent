{
 "cells": [
  {
   "cell_type": "code",
   "execution_count": 2,
   "metadata": {
    "collapsed": true,
    "pycharm": {
     "is_executing": false
    }
   },
   "outputs": [],
   "source": [
    "from itertools import groupby\n",
    "\n",
    "data = range(240298, 784956 + 1)"
   ]
  },
  {
   "cell_type": "code",
   "execution_count": 3,
   "outputs": [
    {
     "name": "stdout",
     "text": [
      "True\nFalse\nFalse\n"
     ],
     "output_type": "stream"
    }
   ],
   "source": [
    "def has_adjacent(password):\n",
    "    for i in range(1, len(password)):\n",
    "        if password[i] == password[i - 1]:\n",
    "            return True\n",
    "    return False\n",
    "\n",
    "def never_decreases(password):\n",
    "    for i in range(1, len(password)):\n",
    "        if int(password[i]) < int(password[i - 1]):\n",
    "            return False\n",
    "    return True\n",
    "\n",
    "def is_valid(password):\n",
    "    return has_adjacent(password) and never_decreases(password)\n",
    "\n",
    "print(is_valid(\"111111\"))\n",
    "print(is_valid(\"223450\"))\n",
    "print(is_valid(\"123789\"))\n",
    "\n",
    "def count(pass_range, predicate):\n",
    "    return [1 for i in pass_range if predicate(str(i))]"
   ],
   "metadata": {
    "collapsed": false,
    "pycharm": {
     "name": "#%%\n",
     "is_executing": false
    }
   }
  },
  {
   "cell_type": "code",
   "execution_count": 4,
   "outputs": [],
   "source": [
    "assert 1150 == sum(count(data, is_valid))"
   ],
   "metadata": {
    "collapsed": false,
    "pycharm": {
     "name": "#%%\n",
     "is_executing": false
    }
   }
  },
  {
   "cell_type": "code",
   "execution_count": 5,
   "outputs": [
    {
     "name": "stdout",
     "text": [
      "True\nFalse\nTrue\n"
     ],
     "output_type": "stream"
    }
   ],
   "source": [
    "def has_adjacent_2_symb(password):\n",
    "    lens = set(len(list(g)) for k, g in groupby(password))\n",
    "    return 2 in lens\n",
    "\n",
    "def is_valid_2(password):\n",
    "    return has_adjacent_2_symb(password) and never_decreases(password)\n",
    "\n",
    "print(is_valid_2(\"112233\"))\n",
    "print(is_valid_2(\"123444\"))\n",
    "print(is_valid_2(\"111122\"))"
   ],
   "metadata": {
    "collapsed": false,
    "pycharm": {
     "name": "#%%\n",
     "is_executing": false
    }
   }
  },
  {
   "cell_type": "code",
   "execution_count": 7,
   "outputs": [],
   "source": [
    "assert 748 == sum(count(data, is_valid_2))"
   ],
   "metadata": {
    "collapsed": false,
    "pycharm": {
     "name": "#%%\n",
     "is_executing": false
    }
   }
  }
 ],
 "metadata": {
  "kernelspec": {
   "display_name": "Python 3",
   "language": "python",
   "name": "python3"
  },
  "language_info": {
   "codemirror_mode": {
    "name": "ipython",
    "version": 2
   },
   "file_extension": ".py",
   "mimetype": "text/x-python",
   "name": "python",
   "nbconvert_exporter": "python",
   "pygments_lexer": "ipython2",
   "version": "2.7.6"
  },
  "pycharm": {
   "stem_cell": {
    "cell_type": "raw",
    "source": [],
    "metadata": {
     "collapsed": false
    }
   }
  }
 },
 "nbformat": 4,
 "nbformat_minor": 0
}